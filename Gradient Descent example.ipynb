{
 "cells": [
  {
   "cell_type": "code",
   "execution_count": null,
   "metadata": {
    "collapsed": true
   },
   "outputs": [],
   "source": [
    "# Computing regression parameters using gradient descent"
   ]
  },
  {
   "cell_type": "markdown",
   "metadata": {},
   "source": [
    "THe idea behind this post is to grok the Algo behind the gradient descent using a trivial example"
   ]
  },
  {
   "cell_type": "code",
   "execution_count": 1,
   "metadata": {
    "collapsed": true
   },
   "outputs": [],
   "source": [
    "X=[0,1,2,3,4]\n",
    "Y=[1,3,7,13,21]"
   ]
  },
  {
   "cell_type": "code",
   "execution_count": 2,
   "metadata": {
    "collapsed": true
   },
   "outputs": [],
   "source": [
    "import pandas as pd\n",
    "import numpy as np\n",
    "import matplotlib.pyplot as plt"
   ]
  },
  {
   "cell_type": "code",
   "execution_count": 3,
   "metadata": {
    "collapsed": true
   },
   "outputs": [],
   "source": [
    "#converting list into pandas dataframe\n",
    "df_X = pd.DataFrame(X)\n",
    "df_Y = pd.DataFrame(Y)"
   ]
  },
  {
   "cell_type": "code",
   "execution_count": 4,
   "metadata": {},
   "outputs": [
    {
     "data": {
      "image/png": "[encoded data removed]",
      "text/plain": [
       "<matplotlib.figure.Figure at 0x263f47ddac8>"
      ]
     },
     "metadata": {},
     "output_type": "display_data"
    }
   ],
   "source": [
    "plt.scatter(df_X,df_Y)\n",
    "plt.xlabel('x')\n",
    "plt.ylabel('y')\n",
    "plt.xlim(0,5)\n",
    "plt.ylim(0,25,5)\n",
    "\n",
    "#plt.axis([0, 1000, 0, 1000])\n",
    "plt.show()\n"
   ]
  },
  {
   "cell_type": "markdown",
   "metadata": {},
   "source": [
    "We are going to find the \"best fit\" line for the above plot. For this we are going to use  gradient descent. THe idea is to get a firm grasp of Linear Regression"
   ]
  },
  {
   "cell_type": "markdown",
   "metadata": {},
   "source": [
    "### Derivatives\n",
    "\n",
    "    The derivative of the cost for the intercept is the sum of the errors\n",
    "    The derivative of the cost for the slope is the sum of the product of the errors and the input\n",
    "    \n",
    "    RSS(w0,w1) = (yi-[w0+w1xi])2 \n",
    "    \n",
    "    taking derivate of RSS w.r.t w0 and w1 we get:\n",
    "    [yi – (w0+w1xi)]       \n",
    "    [yi – (w0+w1xi)]xi \n",
    "    \n"
   ]
  },
  {
   "cell_type": "markdown",
   "metadata": {},
   "source": [
    "### The algorithm\n",
    "\n",
    "Algorithm:  \n",
    "while not converged  \n",
    "w(t+1) <-- w(t) - η dg/dw \n",
    "\n",
    "1. Compute the predicted values given the current slope and intercept\n",
    "\n",
    "2. Compute the prediction errors (prediction - Y)\n",
    "\n",
    "3. Update the intercept:\n",
    "        a. compute the derivative: sum(errors)\n",
    "        b. compute the adjustment as step_size times the derivative\n",
    "        c. decrease the intercept by the adjustment\n",
    "4. Update the slope:\n",
    "       a. compute the derivative: sum(errors*input)\n",
    "       b. compute the adjustment as step_size times the derivative\n",
    "       c. decrease the slope by the adjustment\n",
    "       \n",
    "5. Compute the magnitude of the gradient\n",
    "\n",
    "6. Check for convergence \n",
    "\n",
    "  \n",
    "       "
   ]
  },
  {
   "cell_type": "code",
   "execution_count": 38,
   "metadata": {},
   "outputs": [
    {
     "name": "stdout",
     "output_type": "stream",
     "text": [
      "2.25 7.0\n",
      "error is 147.05441169852742\n"
     ]
    }
   ],
   "source": [
    "### FIRST STEP\n",
    "\n",
    "intercept = 0\n",
    "slope = 0\n",
    "predictions= [0,0,0,0,0]\n",
    "adjustment =0.05\n",
    "\n",
    "#computing errors\n",
    "error = [i - j for i, j in zip(predictions, Y)]\n",
    "#print(error)\n",
    "#update intercept\n",
    "intercept = intercept - adjustment * sum(error)\n",
    "\n",
    "#update slope\n",
    "derivate_slope = sum([i*j for i,j in zip(error,X)])\n",
    "slope = slope - adjustment*derivate_slope\n",
    "\n",
    "print(intercept,slope)\n",
    "error_magnitude  =((sum(error))**2 + ((derivate_slope)**2))**(0.5)\n",
    "print(\"error is =\",error_magnitude)\n"
   ]
  },
  {
   "cell_type": "code",
   "execution_count": 33,
   "metadata": {},
   "outputs": [
    {
     "data": {
      "text/plain": [
       "147.05441169852742"
      ]
     },
     "execution_count": 33,
     "metadata": {},
     "output_type": "execute_result"
    }
   ],
   "source": [
    "((sum(error))**2 + ((derivate_slope)**2))**(0.5)"
   ]
  },
  {
   "cell_type": "markdown",
   "metadata": {},
   "source": [
    "We calcluated the slope and intercept of the line and then we measured the error which was greater then our cut off value.\n",
    "So we will iterate all the steps again . This time the initial value of slope and intercept will be same as we calclated in the FIRST STEP above"
   ]
  },
  {
   "cell_type": "code",
   "execution_count": 43,
   "metadata": {},
   "outputs": [
    {
     "name": "stdout",
     "output_type": "stream",
     "text": [
      "new proedcition=  [2.25, 9.25, 16.25, 23.25, 30.25]\n",
      "error 2nd pass=  [1.25, 6.25, 9.25, 10.25, 9.25]\n",
      "0.4375 2.375\n",
      "error is = 99.34944640006808\n"
     ]
    }
   ],
   "source": [
    "#Second step:\n",
    "\n",
    "intercept = 2.25\n",
    "slope = 7\n",
    "predictions = [(slope*i + intercept) for i in X]\n",
    "print(\"new proedcition= \",predictions)\n",
    "error = [i - j for i, j in zip(predictions, Y)]\n",
    "print(\"error 2nd pass= \",error)\n",
    "\n",
    "#update intercept\n",
    "intercept = intercept - adjustment * sum(error)\n",
    "#update slope\n",
    "derivate_slope = sum([i*j for i,j in zip(error,X)])\n",
    "slope = slope - adjustment*derivate_slope\n",
    "\n",
    "print(intercept,slope)\n",
    "error_magnitude  =((sum(error))**2 + ((derivate_slope)**2))**(0.5)\n",
    "print(\"error is =\",error_magnitude)"
   ]
  },
  {
   "cell_type": "markdown",
   "metadata": {},
   "source": [
    "Since Error in Second step is greater then thresh hold value we will iterate again"
   ]
  },
  {
   "cell_type": "code",
   "execution_count": 44,
   "metadata": {},
   "outputs": [
    {
     "name": "stdout",
     "output_type": "stream",
     "text": [
      "new proedcition=  [0.4375, 2.8125, 5.1875, 7.5625, 9.9375]\n",
      "error 2nd pass=  [-0.5625, -0.1875, -1.8125, -5.4375, -11.0625]\n",
      "1.390625 5.59375\n",
      "error is = 67.13806320746824\n"
     ]
    }
   ],
   "source": [
    "#Third Step\n",
    "intercept = 0.4375\n",
    "slope = 2.375\n",
    "predictions = [(slope*i + intercept) for i in X]\n",
    "print(\"new proedcition= \",predictions)\n",
    "error = [i - j for i, j in zip(predictions, Y)]\n",
    "print(\"error 2nd pass= \",error)\n",
    "\n",
    "#update intercept\n",
    "intercept = intercept - adjustment * sum(error)\n",
    "#update slope\n",
    "derivate_slope = sum([i*j for i,j in zip(error,X)])\n",
    "slope = slope - adjustment*derivate_slope\n",
    "\n",
    "print(intercept,slope)\n",
    "error_magnitude  =((sum(error))**2 + ((derivate_slope)**2))**(0.5)\n",
    "print(\"error is =\",error_magnitude)"
   ]
  },
  {
   "cell_type": "code",
   "execution_count": 54,
   "metadata": {},
   "outputs": [
    {
     "name": "stdout",
     "output_type": "stream",
     "text": [
      "slope is= 4.9904183559693225\n",
      "intercept is = -0.9726848324038107\n",
      "error is = 0.04667687885208575\n"
     ]
    }
   ],
   "source": [
    "intercept = 0\n",
    "slope = 0\n",
    "adjustment =0.05\n",
    "tolerance = 0.05\n",
    "error_magnitude=10\n",
    "while True:\n",
    "    \n",
    "    \n",
    "    predictions = [(slope*i + intercept) for i in X]\n",
    "    error = [i - j for i, j in zip(predictions, Y)]\n",
    "    #update intercept\n",
    "    intercept = intercept - adjustment * sum(error)\n",
    "    #update slope\n",
    "    derivate_slope = sum([i*j for i,j in zip(error,X)])\n",
    "    slope = slope - adjustment*derivate_slope\n",
    "    error_magnitude  =((sum(error))**2 + ((derivate_slope)**2))**(0.5)\n",
    "    if(error_magnitude < tolerance):\n",
    "        break;\n",
    "\n",
    "print(\"slope is=\",slope)\n",
    "print(\"intercept is =\",intercept) \n",
    "print(\"error is =\",error_magnitude)\n",
    "    \n",
    "    "
   ]
  },
  {
   "cell_type": "code",
   "execution_count": 55,
   "metadata": {
    "collapsed": true
   },
   "outputs": [],
   "source": [
    "def my_gradient_descent(tolerance,adjustment,X,Y):\n",
    "    intercept = 0\n",
    "    slope = 0\n",
    "    while True:   \n",
    "        predictions = [(slope*i + intercept) for i in X]\n",
    "        error = [i - j for i, j in zip(predictions, Y)]\n",
    "        #update intercept\n",
    "        intercept = intercept - adjustment * sum(error)\n",
    "        #update slope\n",
    "        derivate_slope = sum([i*j for i,j in zip(error,X)])\n",
    "        slope = slope - adjustment*derivate_slope\n",
    "        error_magnitude  =((sum(error))**2 + ((derivate_slope)**2))**(0.5)\n",
    "        if(error_magnitude < tolerance):\n",
    "            break;\n",
    "\n",
    "    print(\"slope is=\",slope)\n",
    "    print(\"intercept is =\",intercept) \n",
    "    print(\"error is =\",error_magnitude)\n",
    "\n",
    "    \n",
    "    "
   ]
  },
  {
   "cell_type": "code",
   "execution_count": 56,
   "metadata": {},
   "outputs": [
    {
     "name": "stdout",
     "output_type": "stream",
     "text": [
      "slope is= 4.9904183559693225\n",
      "intercept is = -0.9726848324038107\n",
      "error is = 0.04667687885208575\n"
     ]
    }
   ],
   "source": [
    "my_gradient_descent(0.05,0.05,X,Y)"
   ]
  },
  {
   "cell_type": "code",
   "execution_count": 57,
   "metadata": {},
   "outputs": [
    {
     "name": "stdout",
     "output_type": "stream",
     "text": [
      "slope is= 4.998988731505006\n",
      "intercept is = -0.9971170949285223\n",
      "error is = 0.004926384191452688\n"
     ]
    }
   ],
   "source": [
    "my_gradient_descent(0.005,0.05,X,Y)"
   ]
  },
  {
   "cell_type": "code",
   "execution_count": 58,
   "metadata": {},
   "outputs": [
    {
     "name": "stdout",
     "output_type": "stream",
     "text": [
      "slope is= 4.999901231604713\n",
      "intercept is = -0.9997184329294512\n",
      "error is = 0.0004811492334274384\n"
     ]
    }
   ],
   "source": [
    "my_gradient_descent(0.0005,0.05,X,Y)"
   ]
  },
  {
   "cell_type": "markdown",
   "metadata": {},
   "source": [
    "As we can see with reducing error slpoe is converging towards 5 and interept towards -1"
   ]
  },
  {
   "cell_type": "markdown",
   "metadata": {},
   "source": [
    "yi = w0+w1 xi + εi \n",
    "\n",
    "Approach 2: Gradient descent \n",
    "\t[yi – ŷi(w0,w1)]  \n",
    "    [yi – ŷi(w0,w1)]xi "
   ]
  },
  {
   "cell_type": "code",
   "execution_count": null,
   "metadata": {
    "collapsed": true
   },
   "outputs": [],
   "source": []
  }
 ],
 "metadata": {
  "kernelspec": {
   "display_name": "Python 3",
   "language": "python",
   "name": "python3"
  },
  "language_info": {
   "codemirror_mode": {
    "name": "ipython",
    "version": 3
   },
   "file_extension": ".py",
   "mimetype": "text/x-python",
   "name": "python",
   "nbconvert_exporter": "python",
   "pygments_lexer": "ipython3",
   "version": "3.5.3"
  }
 },
 "nbformat": 4,
 "nbformat_minor": 2
}
